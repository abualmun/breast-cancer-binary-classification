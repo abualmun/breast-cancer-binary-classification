{
  "nbformat": 4,
  "nbformat_minor": 0,
  "metadata": {
    "colab": {
      "provenance": [],
      "gpuType": "T4"
    },
    "kernelspec": {
      "name": "python3",
      "display_name": "Python 3"
    },
    "language_info": {
      "name": "python"
    },
    "accelerator": "GPU"
  },
  "cells": [
    {
      "cell_type": "markdown",
      "source": [
        "**Importing libraries and dependencies**\n"
      ],
      "metadata": {
        "id": "0w0r25guX9-i"
      }
    },
    {
      "cell_type": "code",
      "source": [
        "import torch\n",
        "import torch.nn as nn\n",
        "import torch.optim as optim\n",
        "import torch.nn.functional as F\n",
        "import torchvision\n",
        "from sklearn.datasets import load_breast_cancer\n",
        "from sklearn.model_selection import train_test_split\n",
        "from sklearn.preprocessing import StandardScaler"
      ],
      "metadata": {
        "id": "Qc_V8j0RYJnd"
      },
      "execution_count": 1,
      "outputs": []
    },
    {
      "cell_type": "markdown",
      "source": [
        "**Device configuration**"
      ],
      "metadata": {
        "id": "Ov2oQFb8ZIee"
      }
    },
    {
      "cell_type": "code",
      "source": [
        "device = torch.device(\"cuda\" if torch.cuda.is_available() else \"cpu\")\n",
        "print(f\"using the device: {device}\")"
      ],
      "metadata": {
        "colab": {
          "base_uri": "https://localhost:8080/"
        },
        "id": "odh5JMoxZOez",
        "outputId": "0e647856-b5d1-461e-ac96-673182609316"
      },
      "execution_count": 2,
      "outputs": [
        {
          "output_type": "stream",
          "name": "stdout",
          "text": [
            "using the device: cuda\n"
          ]
        }
      ]
    },
    {
      "cell_type": "markdown",
      "source": [
        "**Data ccollection and preprocessing**"
      ],
      "metadata": {
        "id": "nHGynC_LZjct"
      }
    },
    {
      "cell_type": "code",
      "source": [
        "data = load_breast_cancer()\n",
        "x = data.data\n",
        "y = data.target"
      ],
      "metadata": {
        "id": "sTsbprLfZpqU"
      },
      "execution_count": 3,
      "outputs": []
    },
    {
      "cell_type": "markdown",
      "source": [
        "**Split the training and test sets**"
      ],
      "metadata": {
        "id": "8MvkvtqfaE-J"
      }
    },
    {
      "cell_type": "code",
      "source": [
        "X_train , X_test ,y_train, y_test = train_test_split(x,y,test_size=0.2,random_state=42)"
      ],
      "metadata": {
        "id": "L0m-MtBiaRek"
      },
      "execution_count": 6,
      "outputs": []
    },
    {
      "cell_type": "markdown",
      "source": [
        "**Standarize the data using StandardScaler**"
      ],
      "metadata": {
        "id": "IP3zxVKNa714"
      }
    },
    {
      "cell_type": "code",
      "source": [
        "scaler = StandardScaler()\n",
        "X_train = scaler.fit_transform(X_train)\n",
        "X_test = scaler.transform(X_test)\n"
      ],
      "metadata": {
        "id": "mGVMsm8BbFM5"
      },
      "execution_count": 7,
      "outputs": []
    },
    {
      "cell_type": "markdown",
      "source": [
        "**Convert numpy array to tensor and move it to gpu**"
      ],
      "metadata": {
        "id": "lMhMLijQbsWt"
      }
    },
    {
      "cell_type": "code",
      "source": [
        "X_train = torch.tensor(X_train,dtype=torch.float32).to(device)\n",
        "y_train = torch.tensor(y_train,dtype=torch.float32).to(device)\n",
        "X_test = torch.tensor(X_test,dtype=torch.float32).to(device)\n",
        "y_test = torch.tensor(y_test,dtype=torch.float32).to(device)"
      ],
      "metadata": {
        "id": "XV3wGUpabxD8"
      },
      "execution_count": 8,
      "outputs": []
    },
    {
      "cell_type": "markdown",
      "source": [
        "**Neural Network Architecture**"
      ],
      "metadata": {
        "id": "pE1MoMj4dCxr"
      }
    },
    {
      "cell_type": "code",
      "source": [
        "class NeuralNetwork(nn.Module):\n",
        "  def __init__(self,input_size,hidden_size,output_size):\n",
        "    super(NeuralNetwork,self).__init__()\n",
        "    self.fc1 = nn.Linear(input_size,hidden_size)\n",
        "    self.relu = nn.ReLU()\n",
        "    self.fc2 = nn.Linear(hidden_size,output_size)\n",
        "    self.sigmoid = nn.Sigmoid()\n",
        "\n",
        "  def forward(self,x):\n",
        "    out = self.fc1(x)\n",
        "    out = self.relu(out)\n",
        "    out = self.fc2(out)\n",
        "    out = self.sigmoid(out)\n",
        "    return out\n",
        "\n",
        ""
      ],
      "metadata": {
        "id": "zbnRX3BvdJEZ"
      },
      "execution_count": 9,
      "outputs": []
    },
    {
      "cell_type": "markdown",
      "source": [
        "**Define hyperparameters**"
      ],
      "metadata": {
        "id": "eKR4lbM2khJ5"
      }
    },
    {
      "cell_type": "code",
      "source": [
        "input_size = X_train.shape[1]\n",
        "hidden_size = 128\n",
        "output_size = 1\n",
        "learning_rate = 0.001\n",
        "num_epochs = 100"
      ],
      "metadata": {
        "id": "fU8XonXEklw5"
      },
      "execution_count": 14,
      "outputs": []
    },
    {
      "cell_type": "markdown",
      "source": [
        "**initialize NN and move it to the gpu**"
      ],
      "metadata": {
        "id": "-9ZPVtkHk_9w"
      }
    },
    {
      "cell_type": "code",
      "source": [
        "model = NeuralNetwork(input_size,hidden_size,output_size).to(device)"
      ],
      "metadata": {
        "id": "-FP7gXpelFk3"
      },
      "execution_count": 15,
      "outputs": []
    },
    {
      "cell_type": "markdown",
      "source": [
        "**define loss and optimizer**"
      ],
      "metadata": {
        "id": "1Rik9U9tllSf"
      }
    },
    {
      "cell_type": "code",
      "source": [
        "critertion = nn.BCELoss()\n",
        "optimizer = optim.Adam(model.parameters(),lr=learning_rate)"
      ],
      "metadata": {
        "id": "knSgTmoelrN0"
      },
      "execution_count": 16,
      "outputs": []
    },
    {
      "cell_type": "markdown",
      "source": [
        "**Training the model**"
      ],
      "metadata": {
        "id": "BRGIlpcul_oZ"
      }
    },
    {
      "cell_type": "code",
      "source": [
        "for epoch in range(num_epochs):\n",
        "  model.train()\n",
        "  optimizer.zero_grad()\n",
        "  outputs = model(X_train)\n",
        "  loss = critertion(outputs,y_train.reshape(-1,1))\n",
        "  loss.backward()\n",
        "  optimizer.step()\n",
        "\n",
        "  with torch.no_grad():\n",
        "    predicted = outputs.round()\n",
        "    correct = (predicted == y_train.reshape(-1,1)).float().sum()\n",
        "    accuracy = correct/y_train.shape[0]\n",
        "    if (epoch+1)%10 == 0:\n",
        "      print(f\"Epoch [{epoch+1}/{num_epochs}], Loss: {loss.item():.4f} Accuracy: %{accuracy.item()*100:.2f}\")\n",
        ""
      ],
      "metadata": {
        "colab": {
          "base_uri": "https://localhost:8080/"
        },
        "id": "cv8l4imOmC1x",
        "outputId": "c645e026-2971-440d-80f6-c22aa7cb5195"
      },
      "execution_count": 29,
      "outputs": [
        {
          "output_type": "stream",
          "name": "stdout",
          "text": [
            "Epoch [10/100], Loss: 0.4617 Accuracy: %90.99\n",
            "Epoch [20/100], Loss: 0.3258 Accuracy: %93.19\n",
            "Epoch [30/100], Loss: 0.2412 Accuracy: %94.29\n",
            "Epoch [40/100], Loss: 0.1882 Accuracy: %94.73\n",
            "Epoch [50/100], Loss: 0.1540 Accuracy: %95.60\n",
            "Epoch [60/100], Loss: 0.1306 Accuracy: %96.48\n",
            "Epoch [70/100], Loss: 0.1139 Accuracy: %97.58\n",
            "Epoch [80/100], Loss: 0.1014 Accuracy: %98.02\n",
            "Epoch [90/100], Loss: 0.0918 Accuracy: %98.24\n",
            "Epoch [100/100], Loss: 0.0841 Accuracy: %98.46\n"
          ]
        }
      ]
    },
    {
      "cell_type": "markdown",
      "source": [
        "**Evaluate against test-set**"
      ],
      "metadata": {
        "id": "4HEigwacs1ms"
      }
    },
    {
      "cell_type": "code",
      "source": [
        "model.eval()\n",
        "with torch.no_grad():\n",
        "  outputs = model(X_test)\n",
        "  predicted = outputs.round()\n",
        "  correct = (predicted == y_test.reshape(-1,1)).float().sum()\n",
        "  accuracy = correct/y_test.shape[0]\n",
        "  print(f\"Test Accuracy: %{accuracy.item()*100:.2f}\")\n"
      ],
      "metadata": {
        "colab": {
          "base_uri": "https://localhost:8080/"
        },
        "id": "JSTUhNGws6k2",
        "outputId": "ed338273-1d85-4126-daa1-cd01503f7d46"
      },
      "execution_count": 30,
      "outputs": [
        {
          "output_type": "stream",
          "name": "stdout",
          "text": [
            "Test Accuracy: %98.25\n"
          ]
        }
      ]
    },
    {
      "cell_type": "markdown",
      "source": [
        "**The model scored %98.25 accuracy!**"
      ],
      "metadata": {
        "id": "o3aa072gtoss"
      }
    }
  ]
}